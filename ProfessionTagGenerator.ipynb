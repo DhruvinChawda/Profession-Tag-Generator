{
  "nbformat": 4,
  "nbformat_minor": 0,
  "metadata": {
    "colab": {
      "provenance": []
    },
    "kernelspec": {
      "name": "python3",
      "display_name": "Python 3"
    },
    "language_info": {
      "name": "python"
    }
  },
  "cells": [
    {
      "cell_type": "code",
      "execution_count": 1,
      "metadata": {
        "colab": {
          "base_uri": "https://localhost:8080/"
        },
        "id": "UvEQq6YySR2V",
        "outputId": "1bf73cfd-88c8-4749-bdac-37cc63b4fd84"
      },
      "outputs": [
        {
          "output_type": "stream",
          "name": "stdout",
          "text": [
            "Software Developer\n"
          ]
        }
      ],
      "source": [
        "from collections import Counter\n",
        "\n",
        "# Sample dictionary of professions and related skills\n",
        "profession_skills = {\n",
        "    'Software Developer': ['programming', 'software design', 'debugging'],\n",
        "    'Data Scientist': ['machine learning', 'data visualization', 'statistics'],\n",
        "    'Graphic Designer': ['creativity', 'design', 'Photoshop'],\n",
        "    'Mechanical Engineer': ['CAD', 'mechanical knowledge', 'problem solving']\n",
        "}\n",
        "\n",
        "# Function to determine profession based on skills\n",
        "def determine_profession(skills_list):\n",
        "    # Counter for matching skills with professions\n",
        "    profession_counter = Counter()\n",
        "\n",
        "    for profession, skills in profession_skills.items():\n",
        "        # Count how many required skills for each profession are present in the skills_list\n",
        "        profession_counter[profession] = sum(skill in skills_list for skill in skills)\n",
        "\n",
        "    # Find the profession(s) with the highest match count\n",
        "    max_skills = profession_counter.most_common(1)\n",
        "\n",
        "    if max_skills[0][1] > 0:\n",
        "        # If there's at least one skill match, return the profession\n",
        "        return max_skills[0][0]\n",
        "    else:\n",
        "        # If there are no skill matches, return 'Unknown'\n",
        "        return 'Unknown'\n",
        "\n",
        "# Example description in the form of a skill list\n",
        "person_skills = ['programming', 'debugging', 'machine learning']\n",
        "\n",
        "# Generate profession tag\n",
        "profession_tag = determine_profession(person_skills)\n",
        "print(profession_tag)\n"
      ]
    },
    {
      "cell_type": "markdown",
      "source": [
        "# **USING DATASET INSTEAD OF SKILL PROFESSION DICTIONARY**"
      ],
      "metadata": {
        "id": "G5m6N1SqYrLm"
      }
    },
    {
      "cell_type": "code",
      "source": [
        "import csv\n",
        "from collections import Counter\n",
        "\n",
        "# Function to load skills and professions from a CSV file\n",
        "def load_skills_from_csv(filepath):\n",
        "    profession_skills = {}\n",
        "    with open(filepath, mode='r', newline='', encoding='utf-8') as csvfile:\n",
        "        reader = csv.reader(csvfile)\n",
        "        next(reader)  # Skip the header row\n",
        "        for row in reader:\n",
        "            profession, skill = row\n",
        "            if profession in profession_skills:\n",
        "                profession_skills[profession].append(skill)\n",
        "            else:\n",
        "                profession_skills[profession] = [skill]\n",
        "    return profession_skills\n",
        "\n",
        "# Function to determine profession based on skills\n",
        "def determine_profession(skills_list, profession_skills):\n",
        "    profession_counter = Counter()\n",
        "    for profession, skills in profession_skills.items():\n",
        "        profession_counter[profession] = sum(skill in skills_list for skill in skills)\n",
        "    max_skills = profession_counter.most_common(1)\n",
        "    return max_skills[0][0] if max_skills[0][1] > 0 else 'Unknown'\n",
        "\n",
        "# Load the skills and professions from the CSV file\n",
        "# Make sure to replace 'path/to/your/expanded_profession_skills.csv' with the actual path to the CSV file\n",
        "profession_skills = load_skills_from_csv('expanded_profession_skills.csv')\n",
        "\n",
        "# Example description in the form of a skill list\n",
        "person_skills = ['programming', 'debugging', 'machine learning']\n",
        "\n",
        "# Generate profession tag using the loaded dataset\n",
        "profession_tag = determine_profession(person_skills, profession_skills)\n",
        "print(profession_tag)\n"
      ],
      "metadata": {
        "colab": {
          "base_uri": "https://localhost:8080/"
        },
        "id": "7cExkVPJWnVY",
        "outputId": "d56d4b41-c462-40ac-e34f-1078fbad1c56"
      },
      "execution_count": 3,
      "outputs": [
        {
          "output_type": "stream",
          "name": "stdout",
          "text": [
            "Software Developer\n"
          ]
        }
      ]
    }
  ]
}